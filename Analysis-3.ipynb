{
 "cells": [
  {
   "cell_type": "code",
   "execution_count": null,
   "id": "88c43afd",
   "metadata": {},
   "outputs": [],
   "source": [
    "#ERGM\n",
    "library(ergm)\n",
    "library(statnet)\n",
    "library(texreg)\n",
    "library(readxl)\n",
    "library(igraph)\n",
    "library(network)"
   ]
  },
  {
   "cell_type": "code",
   "execution_count": null,
   "id": "359c5a15",
   "metadata": {},
   "outputs": [],
   "source": [
    "data_matrix <- read.csv(\"adjacency_matrix.csv\", header = TRUE, row.names = 1)\n",
    "matrix <- as.matrix(data_matrix)\n",
    "net <- as.network(matrix, matrix.type = \"adjacency\", directed = TRUE, ignore.eval= FALSE, names.eval=\"weight\")\n",
    "set.seed(123)\n",
    "plot(net, \n",
    "     main=\"country net\", \n",
    "     cex.main=0.8, \n",
    "     label = network.vertex.names(net))\n",
    "data_attributes <- read.csv(\"country_data.csv\", header = TRUE, row.names = 1)\n",
    "\n",
    "node_names <- network.vertex.names(net)\n",
    "if (\"country_iso3\" %in% names(data_attributes)) {\n",
    "  for (col_name in setdiff(names(data_attributes), \"country_iso3\")) {\n",
    "    aligned_data <- data_attributes[[col_name]][match(node_names, data_attributes$country_iso3)]\n",
    "    network::set.vertex.attribute(net, col_name, aligned_data)\n",
    "  }\n",
    "} else {\n",
    "  stop(\"data_publishcount must contain 'country_iso3' column\")}\n",
    "\n",
    "vertex_attrs <- network::get.vertex.attribute(net, \"tourism_expenditure\")\n",
    "vertex_attr_classes <- sapply(vertex_attrs, class)\n",
    "\n",
    "model1 <- ergm(net ~ edges + mutual)\n",
    "model2 <- ergm(net~ edges + nodematch(\"publish_count_l\",diff=T) + nodematch(\"per_GDP_l\",diff=T) + \n",
    "               nodematch(\"upper_education_l\",diff=T) + nodematch(\"institution_count_l\",diff=T) + nodematch(\"importt_l\",diff=T) +\n",
    "              nodematch(\"exportt_l\",diff=T) + nodematch(\"tourism_expenditure_l\",diff=T))"
   ]
  },
  {
   "cell_type": "code",
   "execution_count": null,
   "id": "9d5c7737",
   "metadata": {},
   "outputs": [],
   "source": [
    "data_matrix_neibour<- read.csv(\"NEI.csv\", header = TRUE, row.names = 1)\n",
    "matrix_neibour <- as.matrix(data_matrix_neibour)\n",
    "\n",
    "data_matrix_language<- read.csv(\"LAN.csv\", header = TRUE, row.names = 1)\n",
    "matrix_language <- as.matrix(data_matrix_language)\n",
    "\n",
    "data_matrix_colonization<- read.csv(\"COL.csv\", header = TRUE, row.names = 1)\n",
    "matrix_colonization <- as.matrix(data_matrix_colonization)\n",
    "\n",
    "data_matrix_religion<- read.csv(\"REL.csv\", header = TRUE, row.names = 1)\n",
    "matrix_religion <- as.matrix(data_matrix_religion)\n",
    "\n",
    "net %e% \"neibour\" <- matrix_neibour\n",
    "net %e% \"language\" <- matrix_language\n",
    "net %e% \"colonization\" <- matrix_colonization\n",
    "net %e% \"religion\" <- matrix_religion\n",
    "\n",
    "model3 <- ergm(net~ edges + edgecov(matrix_neibour) + edgecov(matrix_language) + edgecov(matrix_colonization) + edgecov(matrix_religion))\n",
    "model4 <- ergm(net~ edges + nodematch(\"publish_count_l\",diff=T) + nodematch(\"per_GDP_l\",diff=T) + \n",
    "               nodematch(\"upper_education_l\",diff=T) + nodematch(\"institution_count_l\",diff=T) + nodematch(\"importt_l\",diff=T) +\n",
    "              nodematch(\"exportt_l\",diff=T) + nodematch(\"tourism_expenditure_l\",diff=T) + \n",
    "              edgecov(matrix_neibour)  + edgecov(matrix_language) + edgecov(matrix_colonization) + edgecov(matrix_religion))"
   ]
  },
  {
   "cell_type": "code",
   "execution_count": null,
   "id": "1597461a",
   "metadata": {},
   "outputs": [],
   "source": []
  }
 ],
 "metadata": {
  "kernelspec": {
   "display_name": "Python [conda env:process_data] *",
   "language": "python",
   "name": "conda-env-process_data-py"
  },
  "language_info": {
   "codemirror_mode": {
    "name": "ipython",
    "version": 3
   },
   "file_extension": ".py",
   "mimetype": "text/x-python",
   "name": "python",
   "nbconvert_exporter": "python",
   "pygments_lexer": "ipython3",
   "version": "3.7.15"
  }
 },
 "nbformat": 4,
 "nbformat_minor": 5
}
