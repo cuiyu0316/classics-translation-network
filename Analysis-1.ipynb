{
 "cells": [
  {
   "cell_type": "code",
   "execution_count": null,
   "id": "9e5bcb32",
   "metadata": {},
   "outputs": [],
   "source": [
    "library(ergm)\n",
    "library(statnet)\n",
    "library(texreg)\n",
    "library(readxl)\n",
    "library(igraph)"
   ]
  },
  {
   "cell_type": "code",
   "execution_count": null,
   "id": "feb0e6f3",
   "metadata": {},
   "outputs": [],
   "source": [
    "data_matrix <- read.csv(\"adjacency_matrix.csv\", header = TRUE, row.names = 1)\n",
    "set.seed(122)\n",
    "matrix <- as.matrix(data_matrix)\n",
    "d <- graph_from_adjacency_matrix(matrix, mode = c('directed'),weighted = 'translation_based',diag = TRUE)\n",
    "plot(d,vertex.size = 3, layout = layout.fruchterman.reingold, vertex.color = \"red\", vertex.label = V(d)$name, edge.arrow.size = 0.5, edge.width = E(d)$translation_based*0.1,\n",
    "    vertex.label.degree = pi/4, vertex.label.dist = 1,\n",
    "    vertex.label.color = \"black\",edge.color = \"black\")\n",
    "matrix <- as.matrix(data_matrix)\n",
    "net <- as.network(matrix, matrix.type = \"adjacency\", directed = TRUE)\n",
    "dgraph <- graph_from_adjacency_matrix(matrix, mode = c('directed'),weighted = 'translation_based',diag = TRUE)"
   ]
  },
  {
   "cell_type": "code",
   "execution_count": null,
   "id": "091f2203",
   "metadata": {},
   "outputs": [],
   "source": [
    "#small-world\n",
    "clust.coef.dir <- function(graph){\n",
    "    A <- as.matrix(get.adjacency(graph))\n",
    "    S <- A + t(A)\n",
    "    deg <- degree(graph,mode=c(\"total\"))\n",
    "    num <- diag(S %*% S %*% S)\n",
    "    denom <- diag(A %*% A)\n",
    "    denom <- 2 * (deg * (deg - 1)- 2 * denom)\n",
    "    cl <- mean(num / denom)\n",
    "    return(cl)}\n",
    "clust.coef.dir <- function(graph){\n",
    "    A <- as.matrix(get.adjacency(graph))\n",
    "    S <- A + t(A)\n",
    "    deg <- degree(graph, mode=c(\"total\"))\n",
    "    num <- diag(S %*% S %*% S)\n",
    "    denom <- diag(A %*% A)\n",
    "    denom <- 2 * (deg * (deg - 1) - 2 * denom)\n",
    "    valid_indices <- denom != 0\n",
    "    if (any(valid_indices)) {\n",
    "        cl <- mean(num[valid_indices] / denom[valid_indices])\n",
    "    } else {\n",
    "        cl <- 0\n",
    "    }\n",
    "        return(cl)}\n",
    "\n",
    "ntrials <- 1000\n",
    "nv <- vcount(dgraph)\n",
    "ne <- ecount(dgraph)\n",
    "c1.rg <- numeric(ntrials)\n",
    "apl.rg <-numeric(ntrials)\n",
    "for (i in (1:ntrials)){\n",
    "    g.rg <- erdos.renyi.game(nv,ne,type = \"gnm\",directed=TRUE)\n",
    "    c1.rg[i] <- clust.coef.dir(g.rg)\n",
    "    apl.rg[i] <- mean_distance(g.rg)}\n",
    "\n",
    "summary(c1.rg)\n",
    "summary(apl.rg)\n",
    "clust.coef.dir(dgraph)\n",
    "mean_distance(dgraph)\n",
    "\n",
    "results <- data.frame(\n",
    "  c1_rg = c1.rg,\n",
    "  apl_rg = apl.rg)"
   ]
  },
  {
   "cell_type": "code",
   "execution_count": null,
   "id": "943b7abd",
   "metadata": {},
   "outputs": [],
   "source": [
    "#degree\n",
    "in_degrees <- degree(d, mode = \"in\")\n",
    "out_degrees <- degree(d, mode = \"out\")\n",
    "degrees <- degree(d)\n",
    "degree_data <- data.frame(node = names(in_degrees), degree = degrees, in_degree = in_degrees, out_degree = out_degrees)\n",
    "sorted_degree_data <- degree_data[order(degree_data$degree, decreasing = TRUE), ]"
   ]
  }
 ],
 "metadata": {
  "kernelspec": {
   "display_name": "Python [conda env:process_data] *",
   "language": "python",
   "name": "conda-env-process_data-py"
  },
  "language_info": {
   "codemirror_mode": {
    "name": "ipython",
    "version": 3
   },
   "file_extension": ".py",
   "mimetype": "text/x-python",
   "name": "python",
   "nbconvert_exporter": "python",
   "pygments_lexer": "ipython3",
   "version": "3.7.15"
  }
 },
 "nbformat": 4,
 "nbformat_minor": 5
}
