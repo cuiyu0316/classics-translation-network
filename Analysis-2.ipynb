{
 "cells": [
  {
   "cell_type": "code",
   "execution_count": null,
   "id": "817f26e2",
   "metadata": {},
   "outputs": [],
   "source": [
    "import networkx as nx\n",
    "import pandas as pd\n",
    "import numpy as np\n",
    "import matplotlib.pyplot as plt\n",
    "import powerlaw\n",
    "from networkx.algorithms import approximation"
   ]
  },
  {
   "cell_type": "code",
   "execution_count": null,
   "id": "dfd4996d",
   "metadata": {},
   "outputs": [],
   "source": [
    "#betweenness\n",
    "data = pd.read_csv(r\"rout_data.csv\")\n",
    "G = nx.DiGraph()\n",
    "for index, row in data.iterrows():\n",
    "    G.add_edge(row['point_iso_3_x'], row['point_iso_3_y'], weight=row['intensity'])\n",
    "sorted_between_centrality = sorted(dict(nx.betweenness_centrality(G)).items(),key=lambda x : x[1], reverse=True)"
   ]
  }
 ],
 "metadata": {
  "kernelspec": {
   "display_name": "Python [conda env:process_data] *",
   "language": "python",
   "name": "conda-env-process_data-py"
  },
  "language_info": {
   "codemirror_mode": {
    "name": "ipython",
    "version": 3
   },
   "file_extension": ".py",
   "mimetype": "text/x-python",
   "name": "python",
   "nbconvert_exporter": "python",
   "pygments_lexer": "ipython3",
   "version": "3.7.15"
  }
 },
 "nbformat": 4,
 "nbformat_minor": 5
}
